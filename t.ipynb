{
 "cells": [
  {
   "cell_type": "code",
   "execution_count": 2,
   "metadata": {},
   "outputs": [],
   "source": [
    "import requests\n",
    "from bs4 import BeautifulSoup\n",
    "import time\n",
    "import os\n",
    "import re\n",
    "\n",
    "def what_in_url(url):\n",
    "    res = requests.get(url)\n",
    "    html_content = res.content\n",
    "    soup = BeautifulSoup(html_content, \"html.parser\")\n",
    "    qj_bmfw_li = soup.find_all('div', class_='qj_bmfw_li')\n",
    "    link_set = []\n",
    "    for item in qj_bmfw_li:\n",
    "        link = \"https://www.hunan.gov.cn\" + item.a['href']\n",
    "        link_set.append(link)\n",
    "    return link_set"
   ]
  },
  {
   "cell_type": "code",
   "execution_count": 4,
   "metadata": {},
   "outputs": [
    {
     "data": {
      "text/plain": [
       "304"
      ]
     },
     "execution_count": 4,
     "metadata": {},
     "output_type": "execute_result"
    }
   ],
   "source": [
    "url = \"https://www.hunan.gov.cn/topic/yjsycb/bszn/index.html\"\n",
    "link_set = what_in_url(url)\n",
    "\n",
    "len(link_set)\n"
   ]
  },
  {
   "cell_type": "code",
   "execution_count": null,
   "metadata": {},
   "outputs": [],
   "source": []
  }
 ],
 "metadata": {
  "kernelspec": {
   "display_name": "base",
   "language": "python",
   "name": "python3"
  },
  "language_info": {
   "codemirror_mode": {
    "name": "ipython",
    "version": 3
   },
   "file_extension": ".py",
   "mimetype": "text/x-python",
   "name": "python",
   "nbconvert_exporter": "python",
   "pygments_lexer": "ipython3",
   "version": "3.11.3"
  }
 },
 "nbformat": 4,
 "nbformat_minor": 2
}
